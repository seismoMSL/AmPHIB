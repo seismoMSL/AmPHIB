{
 "cells": [
  {
   "cell_type": "markdown",
   "metadata": {},
   "source": [
    "# JSON - Creator"
   ]
  },
  {
   "cell_type": "markdown",
   "metadata": {},
   "source": [
    "## Import libaries and define dictionary"
   ]
  },
  {
   "cell_type": "code",
   "execution_count": null,
   "metadata": {},
   "outputs": [],
   "source": [
    "from py_src.util import *\n",
    "import os\n",
    "import json\n",
    "\n",
    "# create and structure dictionary\n",
    "cont = {}\n",
    "gen = cont['general'] = {}\n",
    "path = cont['path'] = {}\n",
    "src = cont['source'] = {}\n",
    "netw = cont['network'] = {}\n",
    "pre = cont['preprocessing'] = {}\n",
    "inv = cont['inversion'] = {}\n",
    "post = cont['postprocessing'] = {}\n",
    "log = cont['logger'] = {}\n",
    "write = cont['writer'] = {}\n",
    "plot = cont['plotter'] = {}\n",
    "res = cont['result'] = {}"
   ]
  },
  {
   "cell_type": "markdown",
   "metadata": {},
   "source": [
    "## Set general path information\n",
    "Set location of Main.ipynb       "
   ]
  },
  {
   "cell_type": "code",
   "execution_count": null,
   "metadata": {},
   "outputs": [],
   "source": [
    "pwd = '/'.join(os.getcwd().split('/')[:-1])"
   ]
  },
  {
   "cell_type": "markdown",
   "metadata": {},
   "source": [
    "Path to files (e.g. shared folder).     \n",
    "Compare structure of Example event.    "
   ]
  },
  {
   "cell_type": "code",
   "execution_count": null,
   "metadata": {},
   "outputs": [],
   "source": [
    "path2fserver = pwd\n",
    "print(path2fserver)"
   ]
  },
  {
   "cell_type": "markdown",
   "metadata": {},
   "source": [
    "Set region"
   ]
  },
  {
   "cell_type": "code",
   "execution_count": null,
   "metadata": {},
   "outputs": [],
   "source": [
    "region = 'Example'"
   ]
  },
  {
   "cell_type": "markdown",
   "metadata": {},
   "source": [
    "## Set event information\n",
    "\n",
    "#### Access event file\n",
    "\n",
    "Note: selection in event_reader() affects only the visual output in the notebook (out=True)"
   ]
  },
  {
   "cell_type": "code",
   "execution_count": null,
   "metadata": {
    "scrolled": true
   },
   "outputs": [],
   "source": [
    "# path to Event_list\n",
    "Event_file = path2fserver+'/TextFiles/'+region+'/Event_List'\n",
    "path['Event_file'] = Event_file\n",
    "\n",
    "# read Event_list\n",
    "event_list = event_reader(Event_file,out=True,plot=False,\n",
    "                          depth=[0.,1000.],lat=[-90.,90.],lon=[-180.,180.],mag=[0.,10.])  \n",
    "src['event_list'] = event_list\n",
    "\n",
    "# search ID in Event_list by source time\n",
    "id_cont = get_event_id_from_time(event_list,'2016-10-18T22:08:10.000000Z')\n",
    "print(id_cont) # output: [ID, time difference to onset time in s]"
   ]
  },
  {
   "cell_type": "markdown",
   "metadata": {},
   "source": [
    "#### Major centroid information                         \n",
    "Note: event_depth information can differ from depth information in event file. Set depth to available synthetics depth (see Synthetics below)"
   ]
  },
  {
   "cell_type": "code",
   "execution_count": null,
   "metadata": {},
   "outputs": [],
   "source": [
    "# define region\n",
    "src['region'] = region\n",
    "\n",
    "# set event id\n",
    "src['event_id'] = 'ev123'\n",
    "\n",
    "# set synthetic event depth\n",
    "src['event_depth'] = 160\n",
    "\n",
    "# get source information of selectd id\n",
    "src['F1_loc'] = event_list[src['event_id']]\n",
    "print(src['F1_loc'])\n"
   ]
  },
  {
   "cell_type": "markdown",
   "metadata": {},
   "source": [
    "#### Minor centroid information (doublet simulation)\n",
    "Note: event_id and depth can be the same or differ from major couple information."
   ]
  },
  {
   "cell_type": "code",
   "execution_count": null,
   "metadata": {},
   "outputs": [],
   "source": [
    "src['simulate_doublet'] =  False# True#\n",
    "src['doublet_event_id'] = src['event_id'] # set id of desired second event at given location\n",
    "src['doublet_event_depth'] = 160 # set synthetic event depth\n",
    "src['F2_loc'] = event_list[src['doublet_event_id']] # get source information of selectd id"
   ]
  },
  {
   "cell_type": "markdown",
   "metadata": {},
   "source": [
    "#### Uncertanty simulation\n",
    "##### Data covariance (Cd)"
   ]
  },
  {
   "cell_type": "code",
   "execution_count": null,
   "metadata": {},
   "outputs": [],
   "source": [
    "# data covariance \n",
    "# sampling uses exponentional factor (see Duputel et. al. 2012)\n",
    "# simple uses a unity matrix\n",
    "inv['Cd_modus'] = 'sampling' #'simple'#\n",
    "# Scaling factor (exponent)\n",
    "inv['exp_scaling_fac'] = 10**-4 # to avoid nummerical zero with float128. Should be > 0.9*10**-4"
   ]
  },
  {
   "cell_type": "markdown",
   "metadata": {},
   "source": [
    "##### Model covariance (CT)\n",
    "Station misalignment"
   ]
  },
  {
   "cell_type": "code",
   "execution_count": null,
   "metadata": {},
   "outputs": [],
   "source": [
    "# solve for station misrotaion (single source only, no mislocation)\n",
    "# src['solve_for_misloc'] and src['simulate_doublet'] will be set to False\n",
    "src['solve_for_misrot'] = True #False #  \n",
    "path['orientation_file'] = path2fserver+'/TextFiles/'+region+'/VOILA_OBS_ORIENTATIONS'"
   ]
  },
  {
   "cell_type": "markdown",
   "metadata": {},
   "source": [
    "Get orientations and uncertainties.      \n",
    "Use constant uncertainty angle if orientation_file is missing.    "
   ]
  },
  {
   "cell_type": "code",
   "execution_count": null,
   "metadata": {},
   "outputs": [],
   "source": [
    "src['daz'] = get_orientations(path['orientation_file'])\n",
    "#src['daz'] = 10. # azimuth uncertainty at station i in degree (az_pert_i = az_i+daz)"
   ]
  },
  {
   "cell_type": "markdown",
   "metadata": {},
   "source": [
    "Station delay (still in development)         "
   ]
  },
  {
   "cell_type": "code",
   "execution_count": null,
   "metadata": {},
   "outputs": [],
   "source": [
    "# solve for station delay times (single source)\n",
    "src['solve_for_delay'] = False # True#\n",
    "src['t_del'] = 3.0 # delay time in s --> currently not used, could be replaced by general station delay info"
   ]
  },
  {
   "cell_type": "markdown",
   "metadata": {},
   "source": [
    "Mislocation (still in development)"
   ]
  },
  {
   "cell_type": "code",
   "execution_count": null,
   "metadata": {},
   "outputs": [],
   "source": [
    "# solve for mislocation (single source)\n",
    "src['solve_for_misloc'] = False # True #\n",
    "src['dx'] = [1,1] # [d(X,Y),dZ] in km\n",
    "src['misloc_fault_id'] = 'F1' # F1 or F2; solving for mislocation can be done for only one fault "
   ]
  },
  {
   "cell_type": "markdown",
   "metadata": {},
   "source": [
    "## Set network information\n",
    "\n",
    "### Station file"
   ]
  },
  {
   "cell_type": "code",
   "execution_count": null,
   "metadata": {},
   "outputs": [],
   "source": [
    "# path to STATIONS file\n",
    "Station_file = path2fserver+'/TextFiles/'+region+'/STATIONS_global'\n",
    "# \n",
    "path['Station_file'] = Station_file"
   ]
  },
  {
   "cell_type": "markdown",
   "metadata": {},
   "source": [
    "Source-Reciever distance range          \n",
    "Stations outside this range cannot be selected at a later stage (usefull if synthetics are not available)"
   ]
  },
  {
   "cell_type": "code",
   "execution_count": null,
   "metadata": {},
   "outputs": [],
   "source": [
    "netw['distance_range'] = [0,350]"
   ]
  },
  {
   "cell_type": "markdown",
   "metadata": {},
   "source": [
    "Load stations (optional: display file content and display on map)   \n",
    "Options:                           \n",
    "**out**: list content                 \n",
    "**plot**: display network on map  \n",
    "**event_id**: give event id to display source location                            \n",
    "**dist_p**: only if event_id is given. Set two values to display min and max radia or leave emtpy to plot reference circles."
   ]
  },
  {
   "cell_type": "code",
   "execution_count": null,
   "metadata": {},
   "outputs": [],
   "source": [
    "netw['stat_global'], netw['netw_id'] = station_reader(Station_file,event_list,out=False,plot=True,\n",
    "                                                      event_id=src['event_id'],dist_p=netw['distance_range'])"
   ]
  },
  {
   "cell_type": "markdown",
   "metadata": {},
   "source": [
    "## Set data information \n",
    "### Observations\n",
    "\n",
    "Define data_path variable to local observabel database. Set tag out to True to list available data.              \n",
    "Note: data_path should lead to parant directory with abitary number of subfolders with naming according to event identifier (event_id)"
   ]
  },
  {
   "cell_type": "code",
   "execution_count": null,
   "metadata": {},
   "outputs": [],
   "source": [
    "data_path = path2fserver+'/Data/'+region+'/Observations/'\n",
    "database_obs = get_event_id_path(data_path,out=True)"
   ]
  },
  {
   "cell_type": "markdown",
   "metadata": {},
   "source": [
    "Path to observables"
   ]
  },
  {
   "cell_type": "code",
   "execution_count": null,
   "metadata": {},
   "outputs": [],
   "source": [
    "path['observation_data_path'] = database_obs[src['event_id']]"
   ]
  },
  {
   "cell_type": "markdown",
   "metadata": {},
   "source": [
    "### Synthetics      \n",
    "We currently support two sources for 1D synthetics and one for 3D synthetics:                   \n",
    "**CAP**: 1D local database. Simulate waveforms with external simulation codes (e.g. specfem3D) in CAP setting (see below)                                  \n",
    "**Fomosto**: 1D Greens function database by pyrocko. Codes uses a wrapper to simulate fundamental waveforms from fomosto dictionary.  \n",
    "**3D**: 3D Greens function database. Please provide MT elementwise pertubations at fixed magnitude for the known source-reciever arangement. Pertubed waveforms should by stored with corresponding ending: .mrr, .mtt, .mpp, .mrt, .mrp, .mtp "
   ]
  },
  {
   "cell_type": "code",
   "execution_count": null,
   "metadata": {},
   "outputs": [],
   "source": [
    "gen['synt_source'] = 'CAP'# '3D'# 'Pyrocko'#\n",
    "synt_ref_mag = 5.0 # magnitude of synthetics "
   ]
  },
  {
   "cell_type": "markdown",
   "metadata": {},
   "source": [
    "#### CAP\n",
    "\n",
    "Define data_path variable to local CAP database. Set tag out to True to list available data.             \n",
    "                  \n",
    "Note: data_path should lead to parant directory with abitary number of subfolders with naming according to synthetic event depth (km). Each folder is further structured into four subfolders with naming 45DS, 90DS, 90SS and ISO corresponding to the underlying fundamental source mechanism. \n",
    "\n",
    "Path to CAP synthetics (set None if CAP is not used)     "
   ]
  },
  {
   "cell_type": "code",
   "execution_count": null,
   "metadata": {},
   "outputs": [],
   "source": [
    "# check availability of CAP waveform database\n",
    "data_path =  path2fserver+'/Data/'+region+'/Synthetics/'\n",
    "database_synt_CAP = get_fund_depth_list_CAP(data_path,out=True)"
   ]
  },
  {
   "cell_type": "markdown",
   "metadata": {},
   "source": [
    "CAP Settings"
   ]
  },
  {
   "cell_type": "code",
   "execution_count": null,
   "metadata": {},
   "outputs": [],
   "source": [
    "path['CAP_synthetic_data_path'] = database_synt_CAP\n",
    "path['CAP_subfolder_structure'] = ['90SS','90DS','45DS','ISO'] # do not change!\n",
    "path['CAP_pattern'] = {'90SS':['A','B'],'90DS':['A','C'],'45DS':['B'],'ISO':['B']} # do not change!\n",
    "\n",
    "# fbd: frequency_band - device id \n",
    "netw['cap_fbd_id'] = 'BH' \n",
    "\n",
    "# add zero trace in from of CAP-synthetics \n",
    "netw['CAP_t_add'] = 60. # in s\n",
    "\n",
    "# profil settings\n",
    "netw['profil'] = {'offset':0.0,           # offset from source in km\n",
    "                  'profil_lenght':350,    # number of receivers in 1\n",
    "                  'station_sampling':1.0} # inter-station distance in km\n",
    "\n",
    "# Source-Time function for CAP (this feature needs more tests)\n",
    "netw['CAP_STF'] = {'F1':0.0,'F2':0.0}\n",
    "#src['stf'] = {}\n",
    "#src['stf']['type'] = 'delta' # \n",
    "#src['stf']['t_half_1'] = 0.0\n",
    "#src['stf']['t_half_2'] = 0.0\n",
    "\n",
    "\n",
    "print(path['CAP_synthetic_data_path'])"
   ]
  },
  {
   "cell_type": "markdown",
   "metadata": {},
   "source": [
    "#### Fomosto by Pyrocko  ([Info](https://pyrocko.org/docs/current/apps/fomosto))                                     \n",
    "\n",
    "                                                        \n",
    "More information about the model can be found at the official [Greens function store](https://greens-mill.pyrocko.org/)                           \n",
    "                        \n",
    "                     \n",
    "     \n",
    "\n",
    "Searching for a Crust2x2 Profile at central coordinate.          \n",
    "To download the model (xxx), execute following line in the Terminal at the desired location:                     \n",
    "$\\textbf{fomosto download kinherd xxx}$    \n",
    "\n",
    "If an update is desired, change settings in config and run:                                  \n",
    "fomosto ttt --force                  \n",
    "fomosto build --force  \n",
    "\n",
    "\n",
    "Path to fomosto Green function database"
   ]
  },
  {
   "cell_type": "code",
   "execution_count": null,
   "metadata": {},
   "outputs": [],
   "source": [
    "import pyrocko.crust2x2\n",
    "# central location of target area\n",
    "rlat, rlon = 41.5, 19.5 #  lat, lon (region central point)\n",
    "profile = pyrocko.crust2x2.get_profile(rlat, rlon) \n",
    "\n",
    "# define path\n",
    "path2store_id = None#path2fserver+'/Data/'+region+'/Synthetics/'\n",
    "Vmodel = 'ak135_2000km_1Hz'\n",
    "store_id = [Vmodel]\n",
    "subnetwork = {Vmodel:list(netw['stat_global'].keys())} # define different subnetworks with different vel models"
   ]
  },
  {
   "cell_type": "markdown",
   "metadata": {},
   "source": [
    "Fomosto Settings"
   ]
  },
  {
   "cell_type": "code",
   "execution_count": null,
   "metadata": {},
   "outputs": [],
   "source": [
    "# add to fomosto pathinformation to dictionary\n",
    "path['fomosto_database'] = path2store_id\n",
    "src['pyrocko_store_id'] = store_id\n",
    "netw['store_id_subnetwork'] = subnetwork\n",
    "netw['pyrocko_fbd_id'] = 'HH' # fbd: frequency_band - device id \n",
    "netw['trace_length'] = 15.*60. # in s \n",
    "netw['Pyrocko_t_add'] = 3*60. # in s \n",
    "netw['Pyrocko_STF'] = {'F1':0.0,'F2':0.0}"
   ]
  },
  {
   "cell_type": "markdown",
   "metadata": {},
   "source": [
    "#### 3D waveform database\n",
    "\n",
    "\n",
    "Set path to data set identifier list"
   ]
  },
  {
   "cell_type": "code",
   "execution_count": null,
   "metadata": {},
   "outputs": [],
   "source": [
    "path['data_set_identifier'] = None#path2fserver+'/TextFiles/'+region+'/ID_AF_Grid'"
   ]
  },
  {
   "cell_type": "markdown",
   "metadata": {},
   "source": [
    "Load ID list   \n",
    "Should contain folder ID and source information:   \n",
    "\n",
    "set_id              lat    lon  depth reference_Mw ref_moment        \n",
    "14.95_-61.45_170.0 14.95 -61.45 170.0 7.5 2.00E+20         \n",
    "14.95_-61.3667_170.0 14.95 -61.3667 170.0 7.5 2.00E+20         \n",
    "14.95_-61.2833_170.0 14.95 -61.2833 170.0 7.5 2.00E+20         \n",
    "..."
   ]
  },
  {
   "cell_type": "code",
   "execution_count": null,
   "metadata": {
    "scrolled": false
   },
   "outputs": [],
   "source": [
    "path['DSI_dict'] = None#load_dataset_identifier(path['data_set_identifier'],out=True)"
   ]
  },
  {
   "cell_type": "markdown",
   "metadata": {},
   "source": [
    "Path to 3D database"
   ]
  },
  {
   "cell_type": "code",
   "execution_count": null,
   "metadata": {},
   "outputs": [],
   "source": [
    "path['3D_synthetic_data_path'] = None#path2fserver+'/Data/'+region+'/Synthetics/AF_Grid/'"
   ]
  },
  {
   "cell_type": "markdown",
   "metadata": {},
   "source": [
    "Recomment set_id (returns nearest sythetics to source location)"
   ]
  },
  {
   "cell_type": "code",
   "execution_count": null,
   "metadata": {},
   "outputs": [],
   "source": [
    "LocF1 = src['F1_loc'][1]\n",
    "path['recommendation_dict_3D'] = None#recomment_set(path['DSI_dict'],path['3D_synthetic_data_path'],\n",
    "                                      #         LocF1,out=True)"
   ]
  },
  {
   "cell_type": "markdown",
   "metadata": {},
   "source": [
    "Set set_id     \n",
    "You can use the recommended set_id or set a custom ID.       \n",
    "Note: The 3D case ignores all src loction settings set in \"Set event information\"     "
   ]
  },
  {
   "cell_type": "code",
   "execution_count": null,
   "metadata": {},
   "outputs": [],
   "source": [
    "src['F1_set_id_3d'] = '14.95_-61.45_170.0'\n",
    "src['F2_set_id_3d'] = '14.95_-61.45_170.0'"
   ]
  },
  {
   "cell_type": "markdown",
   "metadata": {},
   "source": [
    "Source update      \n",
    "Overwrite location setting in \"Set event information\" "
   ]
  },
  {
   "cell_type": "code",
   "execution_count": null,
   "metadata": {},
   "outputs": [],
   "source": [
    "#src_update = update_3D_source_location(cont)\n",
    "#src['F1_loc'] = src_update['F1_loc']\n",
    "#src['F2_loc'] = src_update['F2_loc']\n",
    "#synt_ref_mag = src_update['ref_mag']\n",
    "print(src['F1_loc'])"
   ]
  },
  {
   "cell_type": "code",
   "execution_count": null,
   "metadata": {},
   "outputs": [],
   "source": [
    "netw['3D_fbd_id'] = 'BH'\n",
    "netw['3D_t_add'] = 3*60. # in s \n",
    "netw['3D_trace_length'] = 15.*60. # in s\n",
    "netw['3D_STF'] = {'F1':0.0,'F2':0.0}"
   ]
  },
  {
   "cell_type": "markdown",
   "metadata": {},
   "source": [
    "### Phase onset information     \n",
    "\n",
    "#### From cnv-file\n",
    "Available for cnv picks and fomosto Green function database  \n",
    "\n",
    "Path to cnv file "
   ]
  },
  {
   "cell_type": "code",
   "execution_count": null,
   "metadata": {},
   "outputs": [],
   "source": [
    "#path['cnv_file'] = path2fserver+'/TextFiles/'+region+'/500best_events_final.cnv'\n",
    "path['cnv_file'] = None"
   ]
  },
  {
   "cell_type": "markdown",
   "metadata": {},
   "source": [
    "Complete the phase pick table by including a event cluster within vicinity of the examined event.\n",
    "Traveltimes are computed for an weighted average.       \n",
    "If radius is set to zero, only the picks of the examied event are used.    "
   ]
  },
  {
   "cell_type": "code",
   "execution_count": null,
   "metadata": {},
   "outputs": [],
   "source": [
    "src['phase_onset'] = {}\n",
    "src['phase_onset']['src_cluster'] = {'weight':[1000,1], # weights [examined event, event within radius]\n",
    "                                     'radius':1.0} # radius in km"
   ]
  },
  {
   "cell_type": "markdown",
   "metadata": {},
   "source": [
    "Define phase windows"
   ]
  },
  {
   "cell_type": "code",
   "execution_count": null,
   "metadata": {},
   "outputs": [],
   "source": [
    "src['phase_onset']['width'] = {'P':[0.5,4.5], # [before,after] P-Onset in sec\n",
    "                               'S':[0.5,4.5]  # [before,after] S-Onset in sec\n",
    "                              } "
   ]
  },
  {
   "cell_type": "markdown",
   "metadata": {},
   "source": [
    "Load phase onset information"
   ]
  },
  {
   "cell_type": "code",
   "execution_count": null,
   "metadata": {
    "scrolled": false
   },
   "outputs": [],
   "source": [
    "src['phase_onset']['obs'] =  Load_Picks(Container=cont).get_picks(file_type='cnv',display_tt=True)\n",
    "#print(src['phase_onset']['obs']['t_travel'].keys())\n",
    "#print(src['phase_onset']['obs']['t_variance']['9K_AB03'])\n",
    "print(src['phase_onset']['obs'])"
   ]
  },
  {
   "cell_type": "markdown",
   "metadata": {},
   "source": [
    "Define phase tabel ID of fomosto synthetics. "
   ]
  },
  {
   "cell_type": "code",
   "execution_count": null,
   "metadata": {},
   "outputs": [],
   "source": [
    "src['phase_onset']['table_id'] = {'P':'any_P','S':'any_S'} # see config"
   ]
  },
  {
   "cell_type": "markdown",
   "metadata": {},
   "source": [
    "#### Automated P-phase onset picker    \n",
    "Pick P-onset time of synthetics.    \n",
    "This allows you to define a P-phase window when using CAP or 3D synthetics.    \n",
    "Caution: Use plot tag to check output of STA-LTA Picker!"
   ]
  },
  {
   "cell_type": "code",
   "execution_count": null,
   "metadata": {},
   "outputs": [],
   "source": [
    "pre['synt_onset'] = {}\n",
    "pre['synt_onset']['perform'] = False\n",
    "pre['synt_onset']['comp'] = ['Z'] # list of traces which will be used to pick P-onset\n",
    "pre['synt_onset']['sta_lta'] = [2.0,5.0] # [sta,lta] in seconds\n",
    "pre['synt_onset']['thresh'] = 0.8 # threshold relative to sta-lta-tseries peak\n",
    "pre['synt_onset']['plot'] = False#True # plots obspy picker (when running Quick_Loader)"
   ]
  },
  {
   "cell_type": "markdown",
   "metadata": {},
   "source": [
    "\n",
    "#### Trace time window\n",
    "Use if phase onset information are not available!    \n",
    "\n",
    "Define time window relative to reported event time $t_0$ with:                   \n",
    "t_wind = $[a,b]$               \n",
    "**a**: time before $t_0$ in s             \n",
    "**b**: time after $t_0$ in s             \n",
    "                            \n",
    "Note: a and b must be within the available duration of the observabels and synthetics\n",
    "Also, a must be equal or smaller than Pyrocko_t_add or CAP_t_add (lenght of added synthetic zero trace)        \n",
    "and b equal or smaller than trace_length (pyrocko setting)."
   ]
  },
  {
   "cell_type": "code",
   "execution_count": null,
   "metadata": {},
   "outputs": [],
   "source": [
    "netw['t_wind_synt'] = [0,260]"
   ]
  },
  {
   "cell_type": "markdown",
   "metadata": {},
   "source": [
    "### Trace selection\n",
    "\n",
    "Structure of Trace Selection file:\n",
    "Event_id | obs_trace_set | selection\n",
    "\n",
    "\n",
    "\n",
    "Example:       \n",
    "\n",
    "ev123 Set1 XX_DP04-ZRT XX_DP14-ZRT XX_DP18-ZRT ...           \n",
    "ev123 Set2 XX_DP04-Z XX_DP14-Z ...           \n",
    "ev143 Set1 XX_DP12-Z XX_DP19-Z XX_DP21-ZR           \n",
    "...\n",
    "\n",
    "This routine offers two ways to construct this file:            \n",
    "**Manual selection**         \n",
    "**Automatic selection** Old version. Do not use! Needs some bug fixes!    "
   ]
  },
  {
   "cell_type": "code",
   "execution_count": null,
   "metadata": {},
   "outputs": [],
   "source": [
    "# get location of observables\n",
    "path2data = path['observation_data_path']\n",
    "\n",
    "# path and name of Trace Selection file \n",
    "Trace_selection_file = path2fserver+'/TextFiles/'+region+'/Trace_Selection'\n",
    "path['Trace_selection_file'] = Trace_selection_file\n",
    "\n",
    "Signal_window_file = path2fserver+'/TextFiles/'+region+'/Signal_window_Selection'\n",
    "path['Signal_window_file'] = Signal_window_file"
   ]
  },
  {
   "cell_type": "markdown",
   "metadata": {},
   "source": [
    "#### Manual selection"
   ]
  },
  {
   "cell_type": "code",
   "execution_count": null,
   "metadata": {},
   "outputs": [],
   "source": [
    "# define intial frequency band\n",
    "f_init = [0.055,0.075]\n",
    "# frequency step length (update buttom +-)\n",
    "df = 0.005\n",
    "\n",
    "\n",
    "# handeling of information in the Trace Selection file\n",
    "update_file = 'update' # option: 'update' or 'append' (caution: update overwrites existing selection)\n",
    "set_tag = 'Set1'#'vertical'#'MarkV'#'fullC'#'vertical'# #  name of selection set\n",
    "\n",
    "use_tag = set_tag\n",
    "\n",
    "# define \n",
    "print(netw['distance_range'])\n",
    "distance_range = netw['distance_range'] # stations outside won`t be selected (set to False)\n",
    "twind = [5,500]#[5,60]#[200,700]#[600,1600]\n",
    "Pwind = [75,100]\n",
    "taper = ['hann',0.1]\n",
    "azimuth_range = [0.,360.]\n",
    "\n"
   ]
  },
  {
   "cell_type": "code",
   "execution_count": null,
   "metadata": {
    "scrolled": false
   },
   "outputs": [],
   "source": [
    "#'''\n",
    "Trace_Selector(path2data=path2data,                   # manditory  \n",
    "               Station_file=Station_file,             # manditory\n",
    "               Event_file=Event_file,                 # manditory\n",
    "               path2file=Trace_selection_file,        # manditory\n",
    "               path2PWfile=Signal_window_file,        # manditory\n",
    "               phase_picks=None, # None\n",
    "               distance_range=distance_range,         # default [0.,1000.]\n",
    "               azimuth_range=azimuth_range,           # default [0.,360.]\n",
    "               path2fig='',                           # default pwd\n",
    "               f_init=f_init,                         # default [0.04,0.06]\n",
    "               df=df,                                 # default 0.005\n",
    "               twind=twind,                           # default []\n",
    "               Pwind=Pwind,                           # default []\n",
    "               update_file=update_file,               # default a\n",
    "               set_tag=set_tag,                       # default Set1\n",
    "               event_id=src['event_id'],              # default evXXX\n",
    "               taper=taper,                           # default []\n",
    "               zerophase=False                        # default False\n",
    "              )      \n",
    "#'''\n"
   ]
  },
  {
   "cell_type": "markdown",
   "metadata": {},
   "source": [
    "In case of forced terimation of Trace_Selector (e.g. X instead of save) run below cell to change back to jupyther notebook backend."
   ]
  },
  {
   "cell_type": "code",
   "execution_count": null,
   "metadata": {},
   "outputs": [],
   "source": [
    "import matplotlib\n",
    "matplotlib.use('module://ipykernel.pylab.backend_inline')"
   ]
  },
  {
   "cell_type": "markdown",
   "metadata": {},
   "source": [
    "#### Automatic selection\n",
    "\n",
    "Outdated: Do not use or change!\n",
    "\n",
    "[Obspy Trigger](https://docs.obspy.org/tutorial/code_snippets/trigger_tutorial.html)"
   ]
  },
  {
   "cell_type": "code",
   "execution_count": null,
   "metadata": {},
   "outputs": [],
   "source": [
    "\n",
    "# set list of stations (e.g. [XX_DP01, XX_DP03]) that should be excluded\n",
    "netw['rm_stations'] = []\n",
    "#'''\n",
    "# P-Phase onset picker (used to distinguish between signal and noise)\n",
    "pre['picker'] = {}\n",
    "pre['picker']['perform'] = False#True\n",
    "pre['picker']['filter'] = {'ftype':'bandpass','freqmin':1.0,'freqmax':8.0,'corners':4,'zerophase':True}                      \n",
    "pre['picker']['STA-LTA'] = [10.0,100.0]\n",
    "pre['picker']['threshold'] = [4.0,1.5]   \n",
    "# if perform is false, first x seconds are treated as noise\n",
    "pre['picker']['t_noise'] = 30 # in s\n",
    "\n",
    "# signal to noise \n",
    "pre['s2n'] = {}\n",
    "pre['s2n']['window'] = [5,150] # time in sec before and after the onset (picker)\n",
    "pre['s2n']['s2n_min'] = 3.0 # S2N ratio (in freq band)\n",
    "pre['H2V'] = [8.0,5.0] # H2V max for [Z,R/T], if measured H2V is below this threshold, the trace is included\n",
    "\n",
    "# equalizer\n",
    "pre['equalizer'] = {}\n",
    "pre['equalizer']['min_coverage'] = 0.5\n",
    "pre['equalizer']['e_max'] = 0.975\n",
    "pre['equalizer']['t_uncertainty'] = 0.75\n",
    "\n",
    "# automated trace selection criteria\n",
    "pre['selection_criteria'] = {}\n",
    "pre['selection_criteria']['N_criteria'] = 4 # H2V, S2N, min_coverage, t_uncertainty \n",
    "pre['selection_criteria']['stat_min'] = 4\n",
    "pre['selection_criteria']['trace_min'] = 6\n",
    "pre['selection_criteria']['perform_envelope_shift'] = False#True#\n",
    "#'''"
   ]
  },
  {
   "cell_type": "markdown",
   "metadata": {},
   "source": [
    "### Set trace information\n",
    "\n",
    "##### Set trace selection set id                           \n",
    "Options are existing selection ids (e.g. set_tag from manual trace selection) or the automatic modus.           \n",
    "Set obs_trace_set to 'auto' for automatic selection (only for experienced users)\n",
    "\n",
    "Get selection dictionary (use print to show content)"
   ]
  },
  {
   "cell_type": "code",
   "execution_count": null,
   "metadata": {
    "scrolled": false
   },
   "outputs": [],
   "source": [
    "trace_list = selected_traces_from_file(Trace_selection_file,event_list,netw['stat_global'],\n",
    "                                       distance_range=netw['distance_range'],\n",
    "                                       rm_stations=netw['rm_stations'],\n",
    "                                       out=False)\n",
    "\n",
    "gen['obs_trace_set'] = use_tag # set to auto if selection is automatic\n",
    "netw['trace_selection'] = trace_list[src['event_id']][gen['obs_trace_set']]\n",
    "\n",
    "print(netw['trace_selection'])"
   ]
  },
  {
   "cell_type": "markdown",
   "metadata": {},
   "source": [
    "### Get signal window\n",
    "\n",
    "Fallback solution if Phase information and not available and full time window contains too much noise.      \n",
    "Case: Regional network with large variations in source-receiver distance."
   ]
  },
  {
   "cell_type": "code",
   "execution_count": null,
   "metadata": {},
   "outputs": [],
   "source": [
    "netw['signal_window'] = load_signal_window_file(path['Signal_window_file'])"
   ]
  },
  {
   "cell_type": "markdown",
   "metadata": {},
   "source": [
    "### Set network information"
   ]
  },
  {
   "cell_type": "code",
   "execution_count": null,
   "metadata": {},
   "outputs": [],
   "source": [
    "STAT = get_Station_information(Container=cont)"
   ]
  },
  {
   "cell_type": "markdown",
   "metadata": {},
   "source": [
    "#### Source"
   ]
  },
  {
   "cell_type": "code",
   "execution_count": null,
   "metadata": {},
   "outputs": [],
   "source": [
    "# source dictionary (containes source information of major and (optional) minor couple)\n",
    "src['SRC_dict'] = STAT.src_loc_dict\n",
    "# source time\n",
    "src['ref_time'] = STAT.src_time_dict"
   ]
  },
  {
   "cell_type": "markdown",
   "metadata": {},
   "source": [
    "Magnitude update"
   ]
  },
  {
   "cell_type": "code",
   "execution_count": null,
   "metadata": {},
   "outputs": [],
   "source": [
    "# source magnitude\n",
    "lit_mag = STAT.src_mag_dict['F1_X0']\n",
    "print(lit_mag)\n",
    "perform_mag_update = True#False#\n",
    "update_Mode = 'P2P' # 'LinReg' # 'AMean'\n",
    "src['ref_mag'] = [synt_ref_mag,perform_mag_update,lit_mag,update_Mode] \n",
    "# perform magnitude update on traces\n",
    "inv['magnitude_update'] = 'network' #'T'#  vertical, horizontal"
   ]
  },
  {
   "cell_type": "markdown",
   "metadata": {},
   "source": [
    "#### Network"
   ]
  },
  {
   "cell_type": "code",
   "execution_count": null,
   "metadata": {},
   "outputs": [],
   "source": [
    "# station dictionary (contains station information e.g. location, azimuth, src-distance ...)\n",
    "netw['STAT_dict'] = STAT.stat_loc_dict\n",
    "# CAP reference id (distance dependent id, None is Fomosto is used)\n",
    "netw['CAP_ref_id'] = STAT.CAP_LIST\n",
    "# CAP file path dictionary \n",
    "path['CAP_file_path'] = STAT.CAP_path\n",
    "# 3D waveform file path dictionary\n",
    "path['3D_file_path'] = STAT.PATH_3D\n",
    "#print(path['3D_file_path'])\n",
    "print(netw['CAP_ref_id'])"
   ]
  },
  {
   "cell_type": "markdown",
   "metadata": {},
   "source": [
    "## Preprocessing\n",
    "### Resample"
   ]
  },
  {
   "cell_type": "code",
   "execution_count": null,
   "metadata": {},
   "outputs": [],
   "source": [
    "# resampling (low sampling will increase the computation speed)\n",
    "pre['resampling'] = {'sampling_rate':1.0, # warning: if set too small issues in tshift may arise\n",
    "                     'window':'hanning', \n",
    "                     'strict_length':False}"
   ]
  },
  {
   "cell_type": "markdown",
   "metadata": {},
   "source": [
    "### Remove trend"
   ]
  },
  {
   "cell_type": "code",
   "execution_count": null,
   "metadata": {},
   "outputs": [],
   "source": [
    "# detrend\n",
    "pre['detrend'] = {'type':'demean'}#None}#"
   ]
  },
  {
   "cell_type": "markdown",
   "metadata": {},
   "source": [
    "### Taper"
   ]
  },
  {
   "cell_type": "code",
   "execution_count": null,
   "metadata": {},
   "outputs": [],
   "source": [
    "# taper\n",
    "pre['taper'] = {'type':None,#'hann',# set None if no taper should be used\n",
    "                        'max_percentage':0.1,\n",
    "                        'max_length':None,\n",
    "                        'side':'left'}"
   ]
  },
  {
   "cell_type": "markdown",
   "metadata": {},
   "source": [
    "### Filter\n",
    "\n",
    "Multifrequency band:                     \n",
    "define partition type (ufix: upper fixed, lfix: lower fixed or None: use freqmin and freqmax)                 \n",
    "set fcut list (based on partition)                  \n",
    "\n",
    "e.g. lfix            \n",
    "freqmin is fixed at given value             \n",
    "freqmax is taken from fcut          \n",
    "lenght of fcut defines number of frequency bands used (Note: for auto selection, selection is also done for the different frequency bands) "
   ]
  },
  {
   "cell_type": "code",
   "execution_count": null,
   "metadata": {},
   "outputs": [],
   "source": [
    "pre['filter'] = {'ftype':'bandpass',\n",
    "                'freqmin':0.055,\n",
    "                'freqmax':0.075,\n",
    "                'corners':4,\n",
    "                'zerophase':False,#True,#\n",
    "                'partition_type':None, # ufix, lfix, None\n",
    "                'fcut':[0.05,0.06,0.07] \n",
    "                        }"
   ]
  },
  {
   "cell_type": "markdown",
   "metadata": {},
   "source": [
    "#### Doublet filter settings"
   ]
  },
  {
   "cell_type": "code",
   "execution_count": null,
   "metadata": {},
   "outputs": [],
   "source": [
    "pre['doublet_filter'] = {\n",
    "                        'F1':{\n",
    "                    'freqmin':0.04,\n",
    "                    'freqmax':0.07,\n",
    "                    'corners':4,\n",
    "                    'zerophase':False#True#\n",
    "                    },\n",
    "                    'F2':{\n",
    "                    'fcut':[0.04],\n",
    "                    'freqmax':0.07}\n",
    "                    } "
   ]
  },
  {
   "cell_type": "markdown",
   "metadata": {},
   "source": [
    "# uniXtree setting\n",
    "\n",
    "\n",
    "Parameter vector:           \n",
    "**ii = 0**: strike of major couple                   \n",
    "**ii = 1**: dip of major couple                   \n",
    "**ii = 2**: rake of major couple                   \n",
    "**ii = 3**: clvd of major couple                   \n",
    "**ii = 4**: iso of major couple                   \n",
    "**ii = 5**: strike of minor couple                   \n",
    "**ii = 6**: dip of minor couple                   \n",
    "**ii = 7**: rake of minor couple                   \n",
    "**ii = 8**: clvd of minor couple                   \n",
    "**ii = 9**: iso of minor couple                   \n",
    "**ii = 10**: amplitude ration (0.0: 100% major, 1.0: 100% minor)             \n",
    "**ii = 11**: inter event time in s (>0: tmajor < tminor)                    \n",
    "\n",
    "Major Couple (F1): ii $\\in [0,4]$                 \n",
    "Minor Couple (F2): ii $\\in [5,11]$                 \n",
    "\n",
    "starting_solution_Fx: initial central location in parameter space                 \n",
    "Xtree_range_Fx: halfe wide of parameter space               \n",
    "\n",
    "Caution: set ii=10 and ii=11 to 0.0 for single source simulation   \n",
    "\n",
    "### Define tree structure"
   ]
  },
  {
   "cell_type": "code",
   "execution_count": null,
   "metadata": {},
   "outputs": [],
   "source": [
    "inv['Xtree'] = {'starting_solution_F1':[180., 45., 0.,0.,0.], \n",
    "                 'starting_solution_F2':[180., 45., 0.,0.,0.,0.0,0.0],\n",
    "                 'Xtree_range_F1':[180.,45.,180.,0.0,0.0],\n",
    "                 'Xtree_range_F2':[180.,45.,180.,0.0,0.0,0.0,0.0],\n",
    "                 'full_space_Xlayer': 3, # number of top layer with 100% child volumes\n",
    "                 'nlay_min':11, #  min number of volume halfing steps\n",
    "                 'nlay_max':12, # max number of volume halving steps\n",
    "                 'top_fac':6, # number of top solutions used in next volume halfing\n",
    "                 'half_min':11, # x = 2**half_min --> 360/x: std octree \n",
    "                 'half_max':12,\n",
    "                 'tcrit':['NL2',10,0.9], # data, n results, threshold --> ai/mean(a(i-1,i-(trci[1]+1)) > trci[2]\n",
    "                 'multicore':True # use multicore (False is useful for maitanace work in tree structure)\n",
    "                }"
   ]
  },
  {
   "cell_type": "markdown",
   "metadata": {},
   "source": [
    "### Cost function\n",
    "L2: least square             \n",
    "Bayesian_Cd: data covariance                \n",
    "Bayesian_CD: data + model covariance (based on solve_for_mis(loc/rot))"
   ]
  },
  {
   "cell_type": "code",
   "execution_count": null,
   "metadata": {},
   "outputs": [],
   "source": [
    "inv['function'] = 'Bayesian_Cd'#'L2' #"
   ]
  },
  {
   "cell_type": "markdown",
   "metadata": {},
   "source": [
    "#### Calculate cost fonction per \n",
    "full_network: classic approach, all traces are add together to a single long time series\n",
    "per_station: pdf is calculated for each station, use bootstrap to get mean and std"
   ]
  },
  {
   "cell_type": "code",
   "execution_count": null,
   "metadata": {},
   "outputs": [],
   "source": [
    "inv['rec_inv_procedure'] = 'full_network'#'per_station' # "
   ]
  },
  {
   "cell_type": "markdown",
   "metadata": {},
   "source": [
    "#### Error normalization"
   ]
  },
  {
   "cell_type": "code",
   "execution_count": null,
   "metadata": {},
   "outputs": [],
   "source": [
    "inv['normalize'] = False # outdated \n",
    "inv['L2_normalize'] = True # will be used to compute VR"
   ]
  },
  {
   "cell_type": "markdown",
   "metadata": {},
   "source": [
    "#### Envelope"
   ]
  },
  {
   "cell_type": "code",
   "execution_count": null,
   "metadata": {},
   "outputs": [],
   "source": [
    "# used in NL2 to include weighted envelope information (0.0: 0% envelope, 1.0: 100% envelope)\n",
    "inv['envelope_portion'] = 0.0 # float with [0.0,1.0]"
   ]
  },
  {
   "cell_type": "markdown",
   "metadata": {},
   "source": [
    "#### Bootstrap"
   ]
  },
  {
   "cell_type": "code",
   "execution_count": null,
   "metadata": {},
   "outputs": [],
   "source": [
    "# bootstrap (only availabe for bayesian_inv_procedure = per_station)\n",
    "inv['bootstrap'] = {}\n",
    "inv['bootstrap']['perform'] = False#True#\n",
    "inv['bootstrap']['modus'] =  'trace'#'frequency'#'station'#  TODO: issue with frequency option in station ranking\n",
    "inv['bootstrap']['factor'] = 0.75\n",
    "inv['bootstrap']['n'] = 1000"
   ]
  },
  {
   "cell_type": "markdown",
   "metadata": {},
   "source": [
    "### Time shift"
   ]
  },
  {
   "cell_type": "code",
   "execution_count": null,
   "metadata": {},
   "outputs": [],
   "source": [
    "inv['time_shift'] = {}\n",
    "inv['time_shift']['perform'] = True # False#\n",
    "inv['time_shift']['station_Tshift'] = {'cweight':{'Z':1.0,'R':1.0,'T':1.0},\n",
    "                                      'dt_max_netw':3.0,# network shift --> mean of all traces at all stations\n",
    "                                      'dt_max_stat':1.0,# station shift --> mean of all traces per station\n",
    "                                      'dt_max_tr':0.0}  # trace shift   --> each trace is shifted (use with caution)"
   ]
  },
  {
   "cell_type": "markdown",
   "metadata": {},
   "source": [
    "#### Extract phase window        \n",
    "Note: Use only with pyrocko and cnv-file"
   ]
  },
  {
   "cell_type": "code",
   "execution_count": null,
   "metadata": {},
   "outputs": [],
   "source": [
    "pre['phase_window'] = {}\n",
    "pre['phase_window']['perform'] = False#True # \n",
    "pre['phase_window']['Taper'] = {'type':None,#'hann',# set None if no taper should be used\n",
    "                                'max_percentage':0.15,\n",
    "                                'max_length':None,\n",
    "                                'side':'both'}"
   ]
  },
  {
   "cell_type": "markdown",
   "metadata": {},
   "source": [
    "# Postprocessing\n",
    "\n",
    "### Clustering"
   ]
  },
  {
   "cell_type": "code",
   "execution_count": null,
   "metadata": {},
   "outputs": [],
   "source": [
    "post['mspace_List'] = [5,2.5,5,2.5,2.5,5,2.5,5,2.5,2.5,0.1,2.0] # base variation (std)\n",
    "post['cmax'] = 50 # max number of cluster\n",
    "post['rem_fac'] = 0.1 # remaining factor of non clustered solutions"
   ]
  },
  {
   "cell_type": "markdown",
   "metadata": {},
   "source": [
    "# Output"
   ]
  },
  {
   "cell_type": "code",
   "execution_count": null,
   "metadata": {},
   "outputs": [],
   "source": [
    "plot['waveforms_preproc'] = False#True#\n",
    "plot['picker'] = False#True#\n",
    "plot['equalizer']= False#True#"
   ]
  },
  {
   "cell_type": "code",
   "execution_count": null,
   "metadata": {},
   "outputs": [],
   "source": [
    "# specifie path, CAP output will be saved as mseed with global station id \n",
    "# at path, six folders for F1 to F6 are produced corresponding to the fundamental source mechanism\n",
    "# for no output set path to None\n",
    "write['CAP_output'] = None# '/home/mlind/Python_Scripts/Final_Code/Data/Karibik/Synthetics_6Fund/'#\n",
    "write['3D_output'] = None"
   ]
  },
  {
   "cell_type": "markdown",
   "metadata": {},
   "source": [
    "## Create optional result dictionary"
   ]
  },
  {
   "cell_type": "code",
   "execution_count": null,
   "metadata": {},
   "outputs": [],
   "source": [
    "res['LinInv'] = {}\n",
    "res['GridInv'] = {}\n",
    "res['TreeInv'] = {}"
   ]
  },
  {
   "cell_type": "markdown",
   "metadata": {},
   "source": [
    "## Create json"
   ]
  },
  {
   "cell_type": "code",
   "execution_count": null,
   "metadata": {},
   "outputs": [],
   "source": [
    "with open(pwd+'/input_'+src['event_id']+'_'+region+'.json', 'w', encoding='utf-8') as f:\n",
    "    json.dump(cont, f, ensure_ascii=False, indent=4)\n",
    "print('input_'+src['event_id']+'_'+region+'.json')"
   ]
  },
  {
   "cell_type": "code",
   "execution_count": null,
   "metadata": {},
   "outputs": [],
   "source": []
  }
 ],
 "metadata": {
  "kernelspec": {
   "display_name": "Python 3",
   "language": "python",
   "name": "python3"
  },
  "language_info": {
   "codemirror_mode": {
    "name": "ipython",
    "version": 3
   },
   "file_extension": ".py",
   "mimetype": "text/x-python",
   "name": "python",
   "nbconvert_exporter": "python",
   "pygments_lexer": "ipython3",
   "version": "3.7.6"
  }
 },
 "nbformat": 4,
 "nbformat_minor": 4
}
