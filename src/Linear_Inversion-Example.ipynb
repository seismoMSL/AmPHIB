{
 "cells": [
  {
   "cell_type": "markdown",
   "metadata": {},
   "source": [
    "![](figures/Header.png)\n",
    "\n",
    "##### Author:\n",
    "M.Sc. Mike Lindner ([@Lindner](https://www.gpi.kit.edu/62_117.php))\n",
    "\n",
    "# Linear Inversion    \n",
    "Featured function solves the source inversion in a single step linear inversion following the mathematical formulation by [Křížová et. al. (2013)](https://pubs.geoscienceworld.org/ssa/bssa/article-abstract/103/4/2460/331671/Resolvability-of-Isotropic-Component-in-Regional?redirectedFrom=fulltext). \n",
    "\n",
    "\n",
    "## Import libaries"
   ]
  },
  {
   "cell_type": "code",
   "execution_count": null,
   "metadata": {},
   "outputs": [],
   "source": [
    "import json\n",
    "import os\n",
    "from py_src.Synthetics_Loader import Quick_Loader\n",
    "from py_src.Sampling import Linear_Inversion"
   ]
  },
  {
   "cell_type": "markdown",
   "metadata": {},
   "source": [
    "## Load input JSON-file"
   ]
  },
  {
   "cell_type": "code",
   "execution_count": null,
   "metadata": {},
   "outputs": [],
   "source": [
    "json_file = 'input_ev123_Example.json'"
   ]
  },
  {
   "cell_type": "code",
   "execution_count": null,
   "metadata": {},
   "outputs": [],
   "source": [
    "# location of main.ipynb\n",
    "pwd = '/'.join(os.getcwd().split('/')[:-1])\n",
    "\n",
    "with open(pwd+'/'+json_file) as json_data_file:\n",
    "    Container = json.load(json_data_file)"
   ]
  },
  {
   "cell_type": "markdown",
   "metadata": {},
   "source": [
    "## Quick Loader"
   ]
  },
  {
   "cell_type": "code",
   "execution_count": null,
   "metadata": {
    "scrolled": false
   },
   "outputs": [],
   "source": [
    "_, OBS, SYNT, _, inv_pre, _ = Quick_Loader(Container)"
   ]
  },
  {
   "cell_type": "markdown",
   "metadata": {},
   "source": [
    "## Direct Linear Inversion"
   ]
  },
  {
   "cell_type": "code",
   "execution_count": null,
   "metadata": {},
   "outputs": [],
   "source": [
    "LInv = Linear_Inversion(Container=Container,Observed=OBS,Fundamentals=SYNT)\n",
    "LInv.organizer(add_iso=False) # obspy bachball cannot display isotropic contributions"
   ]
  },
  {
   "cell_type": "markdown",
   "metadata": {},
   "source": [
    "## Display Beachball"
   ]
  },
  {
   "cell_type": "code",
   "execution_count": null,
   "metadata": {},
   "outputs": [],
   "source": [
    "LInv.display_beachball(filename=None)"
   ]
  },
  {
   "cell_type": "markdown",
   "metadata": {},
   "source": [
    "## Display Mechanism and Error"
   ]
  },
  {
   "cell_type": "code",
   "execution_count": null,
   "metadata": {
    "scrolled": false
   },
   "outputs": [],
   "source": [
    "# [strike,dip,rake,clvd,iso,M0] --> clvd,iso in +-100%\n",
    "print(LInv.res['Src_Param']) \n",
    "print()\n",
    "# NL2 error per station\n",
    "print(LInv.res['Error']['Station']['NL2'])\n",
    "print()\n",
    "# NL2 error of full network\n",
    "print(LInv.res['Error']['Network']['NL2'])"
   ]
  },
  {
   "cell_type": "markdown",
   "metadata": {},
   "source": [
    "## Plot Waveforms"
   ]
  },
  {
   "cell_type": "code",
   "execution_count": null,
   "metadata": {
    "scrolled": false
   },
   "outputs": [],
   "source": [
    "LInv.display_waveforms(scaleY=True)"
   ]
  },
  {
   "cell_type": "markdown",
   "metadata": {},
   "source": [
    "## Display Station Error"
   ]
  },
  {
   "cell_type": "code",
   "execution_count": null,
   "metadata": {},
   "outputs": [],
   "source": [
    "LInv.display_station_error()"
   ]
  },
  {
   "cell_type": "markdown",
   "metadata": {},
   "source": [
    "## Map Peak-Amplitudes at Station"
   ]
  },
  {
   "cell_type": "code",
   "execution_count": null,
   "metadata": {},
   "outputs": [],
   "source": [
    "LInv.map_amplitudes(fi=0,exStat=[])"
   ]
  }
 ],
 "metadata": {
  "kernelspec": {
   "display_name": "Python 3",
   "language": "python",
   "name": "python3"
  },
  "language_info": {
   "codemirror_mode": {
    "name": "ipython",
    "version": 3
   },
   "file_extension": ".py",
   "mimetype": "text/x-python",
   "name": "python",
   "nbconvert_exporter": "python",
   "pygments_lexer": "ipython3",
   "version": "3.7.6"
  }
 },
 "nbformat": 4,
 "nbformat_minor": 4
}
