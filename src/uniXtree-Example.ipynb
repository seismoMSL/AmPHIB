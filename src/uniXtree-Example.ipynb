{
 "cells": [
  {
   "cell_type": "markdown",
   "metadata": {},
   "source": [
    "![](figures/Header.png)\n",
    "\n",
    "##### Author:\n",
    "M.Sc. Mike Lindner ([@Lindner](https://www.gpi.kit.edu/62_117.php))\n",
    "\n",
    "# uniXtree inversion\n",
    "\n",
    "## Import libaries"
   ]
  },
  {
   "cell_type": "code",
   "execution_count": null,
   "metadata": {},
   "outputs": [],
   "source": [
    "# open libaries\n",
    "import json\n",
    "import matplotlib  \n",
    "import os\n",
    "\n",
    "# original functions\n",
    "from py_src.Synthetics_Loader import Quick_Loader\n",
    "from py_src.Sampling import uniXtree\n",
    "from py_src.Postprocessing import plot_result_beachball, plot_result_waveforms, Cluster_Result\n",
    "from py_src.util import *"
   ]
  },
  {
   "cell_type": "markdown",
   "metadata": {},
   "source": [
    "## Load input JSON-file\n",
    "\n",
    "\n",
    "For detailed infromation see Create JSON. "
   ]
  },
  {
   "cell_type": "code",
   "execution_count": null,
   "metadata": {},
   "outputs": [],
   "source": [
    "json_file = 'input_ev123_Example.json'"
   ]
  },
  {
   "cell_type": "markdown",
   "metadata": {},
   "source": [
    "Load JSON and assign content to Container dictionary"
   ]
  },
  {
   "cell_type": "code",
   "execution_count": null,
   "metadata": {},
   "outputs": [],
   "source": [
    "# location of main.ipynb\n",
    "pwd = '/'.join(os.getcwd().split('/')[:-1])\n",
    "\n",
    "with open(pwd+'/'+json_file) as json_data_file:\n",
    "    Container = json.load(json_data_file)"
   ]
  },
  {
   "cell_type": "markdown",
   "metadata": {},
   "source": [
    "Set shortcuts"
   ]
  },
  {
   "cell_type": "code",
   "execution_count": null,
   "metadata": {},
   "outputs": [],
   "source": [
    "gen = Container['general']\n",
    "path = Container['path']\n",
    "netw = Container['network']\n",
    "src = Container['source']\n",
    "inv = Container['inversion']\n",
    "pre = Container['preprocessing']"
   ]
  },
  {
   "cell_type": "markdown",
   "metadata": {},
   "source": [
    "## Quick Loader\n",
    "\n",
    "$\\underline{\\text{Input}}$:                   \n",
    "**Container** dictionary       \n",
    "Compare JSON_Creator for detailed information.  \n",
    "    \n",
    "$\\underline{\\text{Output}}$:                 \n",
    "            \n",
    "**SYNT**: a dictionary of fundamental synthetics. Its structure is as followed:             \n",
    "<img src=\"figures/Flowchart_SYNT.png\" width=\"500\"/>   \n",
    "The network object is representative of the station's keys. It is composed of an arbitrary number of stations structured as shown below for the observables (there is no network key)\n",
    "In this example, we do only have one source id with F1_X0.\n",
    "            \n",
    "**OBS**: dictionary of observabels. Its Structure is as followed:    \n",
    "<img src=\"figures/Flowchart_OBS.png\" width=\"500\"/>  \n",
    "The [Trace object](https://docs.obspy.org/packages/obspy.core.html) is a standart obspy python object including the associated functions (filter, detrend, etc.). \n",
    "\n",
    "**inv_pre**: a dictionary of specific pre-inversion settings (e.g. S/N, timeshift, etc.)\n",
    "\n",
    "Note: If you want to perform multiple runs with different settings (traces selection or filter) you need to reload the waveforms."
   ]
  },
  {
   "cell_type": "code",
   "execution_count": null,
   "metadata": {
    "scrolled": false
   },
   "outputs": [],
   "source": [
    "from importlib import reload\n",
    "import py_src.Synthetics_Loader as SL\n",
    "reload(SL)\n",
    "\n",
    "_, OBS, SYNT, Noise, inv_pre, _ = SL.Quick_Loader(Container)"
   ]
  },
  {
   "cell_type": "markdown",
   "metadata": {},
   "source": [
    "### Change inversion settings"
   ]
  },
  {
   "cell_type": "code",
   "execution_count": null,
   "metadata": {},
   "outputs": [],
   "source": [
    "Xtree = Container['inversion']['Xtree']\n",
    "Xtree['starting_solution_F1'] = [180, 45, 0, 0,0] # [strike,dip,rake,clvd,iso]\n",
    "Xtree['Xtree_range_F1'] = [180, 45, 180, 100, 0] # [dstrike,ddip,drake,dclvd,diso]\n",
    "Xtree['full_space_Xlayer'] = 1\n",
    "Xtree['top_fac'] = 4"
   ]
  },
  {
   "cell_type": "markdown",
   "metadata": {},
   "source": [
    "### Inversion procedure"
   ]
  },
  {
   "cell_type": "code",
   "execution_count": null,
   "metadata": {},
   "outputs": [],
   "source": [
    "inv['function'] = 'Bayesian_Cd'#'L2'#"
   ]
  },
  {
   "cell_type": "markdown",
   "metadata": {},
   "source": [
    "### Construct data covariance matrix"
   ]
  },
  {
   "cell_type": "code",
   "execution_count": null,
   "metadata": {
    "scrolled": false
   },
   "outputs": [],
   "source": [
    "from importlib import reload\n",
    "import py_src.Modeller as Mod\n",
    "reload(Mod)\n",
    "\n",
    "\n",
    "if inv['function'] != 'L2':\n",
    "    Dcov = Mod.design_data_covariance_matrix(OBS,Container, # obs data and parameter container\n",
    "                                             Noise_Dict=Noise, # dictionary of noise traces\n",
    "                                             N_TSampl=150, # use only last N_TSampl (avoid filter effects at boundary)\n",
    "                                             Noise_ampli=1.0, # multipy noise amplitude\n",
    "                                             plot=False # display construction of cov. matrix\n",
    "                                            )\n",
    "    Container['inversion']['data_covariance'] = Dcov"
   ]
  },
  {
   "cell_type": "markdown",
   "metadata": {},
   "source": [
    "### Run uniXtree sampling"
   ]
  },
  {
   "cell_type": "code",
   "execution_count": null,
   "metadata": {
    "scrolled": true
   },
   "outputs": [],
   "source": [
    "from importlib import reload\n",
    "import py_src.Sampling as samp\n",
    "reload(samp)\n",
    "\n",
    "\n",
    "XTree = samp.uniXtree(Container=Container,Observed=OBS,Fundamentals=SYNT)\n",
    "Result = XTree.organizer(show_progress=True)"
   ]
  },
  {
   "cell_type": "markdown",
   "metadata": {},
   "source": [
    "### Create output folder"
   ]
  },
  {
   "cell_type": "code",
   "execution_count": null,
   "metadata": {},
   "outputs": [],
   "source": [
    "out_folder = pwd+'/Figures/'\n",
    "sub_folder = src['event_id']\n",
    "path2output = create_output_folder(out_folder,sub_folder)"
   ]
  },
  {
   "cell_type": "markdown",
   "metadata": {},
   "source": [
    "### Plot results"
   ]
  },
  {
   "cell_type": "code",
   "execution_count": null,
   "metadata": {
    "scrolled": false
   },
   "outputs": [],
   "source": [
    "if inv['function'] != 'L2':\n",
    "    prob = [0.95,0.97]#\n",
    "else:\n",
    "    prob = [2,2]\n",
    "plot_result_beachball(Result,inv_pre,Container,prob=prob)"
   ]
  },
  {
   "cell_type": "markdown",
   "metadata": {},
   "source": [
    "### Cluster solutions"
   ]
  },
  {
   "cell_type": "code",
   "execution_count": null,
   "metadata": {
    "scrolled": false
   },
   "outputs": [],
   "source": [
    "from importlib import reload\n",
    "import py_src.Postprocessing as post\n",
    "reload(post)\n",
    "\n",
    "cRes = post.Cluster_Result(Container=Container,OBS=OBS,SYNT=SYNT)\n",
    "cRes.get_Kagan_cluster(Result,mKagan=[20.0,35.0])\n",
    "cRes.display_cluster(fx='f1')\n",
    "cl_dict1 = cRes.print_result(fx='f1',ev_suffix='10_10_10')"
   ]
  },
  {
   "cell_type": "markdown",
   "metadata": {},
   "source": [
    "### Plot waveforms"
   ]
  },
  {
   "cell_type": "code",
   "execution_count": null,
   "metadata": {
    "scrolled": false
   },
   "outputs": [],
   "source": [
    "plot_result_waveforms(OBS,Result,Container,SYNT,inv_pre,\n",
    "                      prob=10, # number (or <1 percentage) of solutions\n",
    "                      display_sigma=True,\n",
    "                      Noise_Dict=Noise,\n",
    "                      N_TSampl=150,    \n",
    "                      Noise_ampli=1.0\n",
    "                      )"
   ]
  },
  {
   "cell_type": "code",
   "execution_count": null,
   "metadata": {},
   "outputs": [],
   "source": []
  }
 ],
 "metadata": {
  "kernelspec": {
   "display_name": "Python 3",
   "language": "python",
   "name": "python3"
  },
  "language_info": {
   "codemirror_mode": {
    "name": "ipython",
    "version": 3
   },
   "file_extension": ".py",
   "mimetype": "text/x-python",
   "name": "python",
   "nbconvert_exporter": "python",
   "pygments_lexer": "ipython3",
   "version": "3.7.6"
  }
 },
 "nbformat": 4,
 "nbformat_minor": 4
}
