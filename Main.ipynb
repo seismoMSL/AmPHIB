{
 "cells": [
  {
   "cell_type": "markdown",
   "metadata": {},
   "source": [
    "<img src=\"src/figures/Header.png\" width=\"1000\"/> \n",
    "\n",
    "# AmΦB - uniXtree - Regional FWI Moment Tensor Inversion\n",
    "\n",
    "### by  [Mike Lindner](https://www.gpi.kit.edu/english/Staff_2455.php)\n",
    "\n",
    "---------------------\n",
    "\n",
    "\n",
    "### JSON_Creator:               \n",
    "Helper notebook to create the input json-file.                  \n",
    "[Example](src/JSON-Creator-Example.ipynb)      \n",
    "\n",
    "### AmΦB - uniXtree Inversion:         \n",
    "Inversion notebook for AmΦB importance sampling.                        \n",
    "[Example](src/uniXtree-Example.ipynb)     \n",
    "\n",
    "### Linear Inversion:         \n",
    "Inversion notebook for direct linear inversion.   \n",
    "[Example](src/Linear_Inversion-Example.ipynb)   \n",
    "\n",
    "### Test Custom Mechanism: \n",
    "Test custom mechanism in a forward simulation.          \n",
    "[Example](src/Test_Custom_Mechanism-Example.ipynb)       \n"
   ]
  },
  {
   "cell_type": "code",
   "execution_count": null,
   "metadata": {},
   "outputs": [],
   "source": []
  }
 ],
 "metadata": {
  "kernelspec": {
   "display_name": "Python 3",
   "language": "python",
   "name": "python3"
  },
  "language_info": {
   "codemirror_mode": {
    "name": "ipython",
    "version": 3
   },
   "file_extension": ".py",
   "mimetype": "text/x-python",
   "name": "python",
   "nbconvert_exporter": "python",
   "pygments_lexer": "ipython3",
   "version": "3.7.6"
  }
 },
 "nbformat": 4,
 "nbformat_minor": 4
}
